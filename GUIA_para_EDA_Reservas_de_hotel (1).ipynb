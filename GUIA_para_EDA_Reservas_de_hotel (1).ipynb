{
  "nbformat": 4,
  "nbformat_minor": 0,
  "metadata": {
    "colab": {
      "name": "GUIA_para_EDA_Reservas_de_hotel.ipynb",
      "provenance": [],
      "collapsed_sections": []
    },
    "kernelspec": {
      "name": "python3",
      "display_name": "Python 3"
    },
    "language_info": {
      "name": "python"
    }
  },
  "cells": [
    {
      "cell_type": "markdown",
      "source": [
        "# Carga de librerías y paquetes \n",
        "En esta sección usted debera cargar las librerias que considere necesarias para realizar el análisis EDA"
      ],
      "metadata": {
        "id": "8GOsx3CdvLae"
      }
    },
    {
      "cell_type": "code",
      "source": [
        "import pandas as pd\n",
        "import numpy as np\n"
      ],
      "metadata": {
        "id": "CD7i2Fbqvgqn"
      },
      "execution_count": 1,
      "outputs": []
    },
    {
      "cell_type": "markdown",
      "source": [
        "*Justificación*\n",
        "\n",
        "\n",
        "Se utilizaran las libreria *Pandas* y *numpy*, las cual nos permite trabajar con conjuntos de datos, toda vez que estas  cuentan con funciones para analizar, limpiar, explorar y manipular datos.\n"
      ],
      "metadata": {
        "id": "UBrgOpxsDymQ"
      }
    },
    {
      "cell_type": "markdown",
      "source": [
        "# Carga de dataset inicial\n",
        "En esta sección usted deberá cargar los datos de reservas de hotel en una estructura de datos que le permita realizar el EDA. Se recomienda realizar las siguientes acciones:\n",
        "\n",
        "\n",
        "* Dar un vistazo a algunos registros del Dataset\n",
        "* Conocer las dimensiones del dataset\n",
        "* Obtener información de las columnas y sus tipos de datos\n",
        "* Conocer cuantas columnas hay por los diferentes tipos\n"
      ],
      "metadata": {
        "id": "lnqowwSWvfla"
      }
    },
    {
      "cell_type": "code",
      "source": [
        "cfory = pd.read_csv('hotel_bookings.csv')\n",
        "cfory.head()\n",
        "\n",
        "print(\"La dismensiondes del dataset son: \", cfory.shape , \"filas y columnas\")\n",
        "\n",
        "cfory.dtypes\n",
        "\n",
        "print(cfory.info()) "
      ],
      "metadata": {
        "id": "wTcJ3KT2v1gD",
        "colab": {
          "base_uri": "https://localhost:8080/"
        },
        "outputId": "d506b2d2-a54a-44a2-8634-b292bb013f9d"
      },
      "execution_count": 267,
      "outputs": [
        {
          "output_type": "stream",
          "name": "stdout",
          "text": [
            "La dismensiondes del dataset son:  (119390, 32) filas y columnas\n",
            "<class 'pandas.core.frame.DataFrame'>\n",
            "RangeIndex: 119390 entries, 0 to 119389\n",
            "Data columns (total 32 columns):\n",
            " #   Column                          Non-Null Count   Dtype  \n",
            "---  ------                          --------------   -----  \n",
            " 0   hotel                           119390 non-null  object \n",
            " 1   is_canceled                     119390 non-null  int64  \n",
            " 2   lead_time                       119390 non-null  int64  \n",
            " 3   arrival_date_year               119390 non-null  int64  \n",
            " 4   arrival_date_month              119390 non-null  object \n",
            " 5   arrival_date_week_number        119390 non-null  int64  \n",
            " 6   arrival_date_day_of_month       119390 non-null  int64  \n",
            " 7   stays_in_weekend_nights         119390 non-null  int64  \n",
            " 8   stays_in_week_nights            119390 non-null  int64  \n",
            " 9   adults                          119390 non-null  int64  \n",
            " 10  children                        119386 non-null  float64\n",
            " 11  babies                          119390 non-null  int64  \n",
            " 12  meal                            119390 non-null  object \n",
            " 13  country                         118902 non-null  object \n",
            " 14  market_segment                  119390 non-null  object \n",
            " 15  distribution_channel            119390 non-null  object \n",
            " 16  is_repeated_guest               119390 non-null  int64  \n",
            " 17  previous_cancellations          119390 non-null  int64  \n",
            " 18  previous_bookings_not_canceled  119390 non-null  int64  \n",
            " 19  reserved_room_type              119390 non-null  object \n",
            " 20  assigned_room_type              119390 non-null  object \n",
            " 21  booking_changes                 119390 non-null  int64  \n",
            " 22  deposit_type                    119390 non-null  object \n",
            " 23  agent                           103050 non-null  float64\n",
            " 24  company                         6797 non-null    float64\n",
            " 25  days_in_waiting_list            119390 non-null  int64  \n",
            " 26  customer_type                   119390 non-null  object \n",
            " 27  adr                             119390 non-null  float64\n",
            " 28  required_car_parking_spaces     119390 non-null  int64  \n",
            " 29  total_of_special_requests       119390 non-null  int64  \n",
            " 30  reservation_status              119390 non-null  object \n",
            " 31  reservation_status_date         119390 non-null  object \n",
            "dtypes: float64(4), int64(16), object(12)\n",
            "memory usage: 29.1+ MB\n",
            "None\n"
          ]
        }
      ]
    },
    {
      "cell_type": "markdown",
      "source": [
        "*Justificación*\n",
        "\n",
        "Se realiza una vista completa del dataset con el fin de explorar el archivo, esto por medio de la carga del archivo y posteriormente el llamado del mismo (cfory.head()).\n",
        "\n",
        "Posteriormente se realiza una revision de las dimensiones del dataset, para lo cual utilizamos *shape*, el cual nos muestra la cantidad de filas y columnas.\n",
        "\n",
        "Continuamos con la descripcion del tipo de datos de cada columna, para lo que hacemos uso de *dtypes*\n",
        "\n",
        "Finalizamos obteniendo la cantidad de columnas que hay por los diferentes tipos de datos, por medio de *info()*\n"
      ],
      "metadata": {
        "id": "udfUIZeXD5ZS"
      }
    },
    {
      "cell_type": "markdown",
      "source": [
        "# Tratamiento de datos faltantes\n",
        "\n",
        "Es importante establecer la calidad y cantidad de registros, para ello es necesario identificar la cantidad de registros con las que se cuenta y tomar acciones sobre que hacer respecto a esos datos faltantes. Se recomienda realizar las siguientes acciones:\n",
        "\n",
        "* Identifique que columnas tienen datos faltantes\n",
        "* Haga un reporte de datos faltantes\n",
        "* Establezca una estrategia para esos datos faltantes. Se proponen tres alternativas a considerar: 1) Eliminar registros y 2) Reemplazar datos con valores por defecto y 3) Remover variables que tienen más del 25% de datos faltantes"
      ],
      "metadata": {
        "id": "tZ9tpz28v2SR"
      }
    },
    {
      "cell_type": "code",
      "source": [
        "print(\"Las columnas con datos faltantes son las siguientes: \")\n",
        "print(\"\")\n",
        "null_columns=cfory.columns[cfory.isnull().any()]\n",
        "print(cfory[null_columns].isnull().sum())\n",
        "print(\"\")\n",
        "print(\"El total de datos faltantes en el DataFrame cfory es:\", cfory.isnull().sum().sum())\n",
        "\n",
        "\n",
        "#total_rows=len(cfory.axes[0]) #===> Axes of 0 is for a row\n",
        "total_cols=len(cfory.axes[1]) #===> Axes of 0 is for a column\n",
        "#print(\"Number of Rows: \"+str(total_rows))\n",
        "print(\"El total de columnas en el DataFrame cfory es: \"+str(total_cols))\n",
        "print(\"El\", ((4*100) / (int(total_cols)) ) , \"% de las columnas tienen datos faltantes\")"
      ],
      "metadata": {
        "id": "NlEbFNfdtBiA"
      },
      "execution_count": null,
      "outputs": []
    },
    {
      "cell_type": "markdown",
      "source": [
        "*Justificación*\n",
        "\n",
        "Se realiza la identificacioin de colomnas con datos faltantes y se totalizan los mismos, por medio de *isnull().sum()*\n",
        "\n",
        "Posteriorment se realiza un reporte de datos faltantes, haciendo uso de las operaciones basicas para aplicar una regla de 3, conociendo previamente la cantidad de columnas con datos faltantes y el total de columnas.\n",
        "\n",
        "Con relacion a los datos faltantes, como estrategia utilizaremos lo siguiente: 1. Eliminar los registros de la columna company, la cual tiene mas del 95% de datos faltantes.  2. Con la columna *agent* se reemplazaran datos con valores por defecto, ya que en su gran mayoria si cuentan con información y por ultimo las columnas *children y country*, se agregaran dadotos por defecto, toda vez que su porcetaje de datos faltantes es minimo."
      ],
      "metadata": {
        "id": "34YgBZ_vD6fT"
      }
    },
    {
      "cell_type": "markdown",
      "source": [
        "# Nuevas variables\n",
        "En ocaciones pueden establecer nuevas variables a partir de unas existentes, esto se puede realizar para facilitar procesos de análisis posteriores. Se recomienda realizar las siguientes acciones:\n",
        "\n",
        "* Identificar si en la reserva hay alguna clase de niño\n",
        "* Convertir nombre del mes en valor númerico"
      ],
      "metadata": {
        "id": "0te6NeJP1vv3"
      }
    },
    {
      "cell_type": "code",
      "source": [
        "total_rows=len(cfory.axes[0]) #Total de filas\n",
        "print(\"De el total de reservas (\",int(total_rows),\"), 9332  de estas incluyen niños\" )\n",
        "infantes = cfory.eval('total = children + babies')\n",
        "infantes[infantes['total']>0][['total']]\n",
        "print()\n",
        "print()\n",
        "print(\"Conversion de los meses de texto a numerico\")\n",
        "print()\n",
        "cfory['month'] = cfory[\"arrival_date_month\"].replace({'January': 1,\n",
        "        'February': 2,\n",
        "        'March': 3,\n",
        "        'April': 4,\n",
        "        'May': 5,\n",
        "        'June': 6,\n",
        "        'July': 7,\n",
        "        'August': 8,\n",
        "        'September': 9,\n",
        "        'October': 10,\n",
        "        'November': 11,\n",
        "        'December': 12})\n",
        "\n",
        "print(cfory['month'])   # Impresion general de la data transformada\n",
        "\n",
        "# Impresion detallada\n",
        "mes = cfory[cfory['month'] != 0][['arrival_date_month']+['month']]\n",
        "mes.head()\n",
        "\n"
      ],
      "metadata": {
        "id": "qA3c8NOYwtzs"
      },
      "execution_count": null,
      "outputs": []
    },
    {
      "cell_type": "markdown",
      "source": [
        "*Justificación*\n",
        "\n",
        "Utilizando el total de filas con datos para las columnas *children y babies*, se realiza la totalizacion de la cantidad de reservas en las que hay alguna clase de niño, creando una nueva columna en la cual se muestra el total de niños por reserva.\n",
        "\n",
        "Por otra parate, con ayuda del *replace* se realiza la conversion de texto a numerico el valor correspondiente para cada mes y se agrega una columna para su visualizacion y mejor comprension. "
      ],
      "metadata": {
        "id": "qiml04kMD7fL"
      }
    },
    {
      "cell_type": "markdown",
      "source": [
        "# Identificación de metas y objetivos\n",
        "\n",
        "Lo más importante en un proyecto es siempre identificar que se quiere realizar con los datos. Por ello es importante establecer una variable objetivo y las variables independientes. En este ejercicio se recomienda lo siguiente:\n",
        "\n",
        "* Escoger como variable objetivo las cancelaciones\n",
        "* Escoger como variables independientes el resto de columnas"
      ],
      "metadata": {
        "id": "aly2TP_a3X3t"
      }
    },
    {
      "cell_type": "code",
      "source": [
        "# Import seaborn\n",
        "import seaborn as sns\n",
        "\n",
        "dots = sns.load_dataset(\"dots\")\n",
        "sns.relplot(\n",
        "    data=dots, kind=\"line\",\n",
        "    x=cfory['is_canceled'], y=cfory['country'], col=\"align\",\n",
        "    hue=\"choice\", size=\"coherence\", style=\"choice\",\n",
        "    facet_kws=dict(sharex=False),\n",
        ")\n"
      ],
      "metadata": {
        "id": "sxpa_M5F8Wng"
      },
      "execution_count": null,
      "outputs": []
    },
    {
      "cell_type": "markdown",
      "source": [
        "*Justificación*\n",
        "\n",
        "Se trabajara como variable objetico la variable *is_canceled*, toda vez que este es uno de los indicadores mas relevantes y de mayor impacto en el tema de reservas hoteleras.\n",
        "\n",
        "Se hara uso de biblioteca *seaborn* la cual es ideal para realizar gráficos estadísticos en Python"
      ],
      "metadata": {
        "id": "Yt44wnBED8a7"
      }
    },
    {
      "cell_type": "markdown",
      "source": [
        "# Exploración de datos (#1 - Outliers)\n",
        "\n",
        "Siempre es bueno dar un vistazo a los datos y ver como están distribuidas algunas variables. Con esto se puede establecer si hay datos que puedan generar mucho ruido en el análisis y que acciones seguir. Para esto se recomienda:\n",
        "\n",
        "* Ver la distribucción de las variables\n",
        "* Identificar outliers\n",
        "* Tomar una decision de si se deben remover esos registros o si se van a conservar"
      ],
      "metadata": {
        "id": "5mq87M0H5OYj"
      }
    },
    {
      "cell_type": "code",
      "source": [
        "import matplotlib.pyplot as plt\n",
        "\n",
        "sns.boxplot(cfory['stays_in_weekend_nights'])\n"
      ],
      "metadata": {
        "id": "YFKRt8qT5M_9"
      },
      "execution_count": null,
      "outputs": []
    },
    {
      "cell_type": "markdown",
      "source": [
        "*Justificación*\n",
        "\n",
        "Se identifica outliers para la cantidad de noches en fin de semana, en el gráfico anterior, se puede ver claramente que los valores superiores a 5 actúan como valores atípicos, para la cantidad de noches resenrvas en fines de semana."
      ],
      "metadata": {
        "id": "5HMI2hZYD9QD"
      }
    },
    {
      "cell_type": "markdown",
      "source": [
        "# Exploración de datos (#2 - Análisis univariado)\n",
        "\n",
        "Ya que se tiene una idea mejor de como estan organizados los datos, es hora de iniciar a realizar diferentes tipos de análisis exploratorios, dependiendo del tipo de información que estemos manejando. Para esto se recomienda:\n",
        "\n",
        "* Separe las variables por tipo de datos\n",
        "* Identifique el número de categorias por cada variable cualitativas\n",
        "* Realice un resumen de datos con la variables cuantitativas"
      ],
      "metadata": {
        "id": "CtF_ZIFs8ZBR"
      }
    },
    {
      "cell_type": "code",
      "source": [
        "# code here"
      ],
      "metadata": {
        "id": "gPbNCAhu-txk"
      },
      "execution_count": null,
      "outputs": []
    },
    {
      "cell_type": "markdown",
      "source": [
        "*Justificación aquí*"
      ],
      "metadata": {
        "id": "ym1cAs2MD-M7"
      }
    },
    {
      "cell_type": "markdown",
      "source": [
        "# Exploración de datos (#3 - Comparación de variables)\n",
        "\n",
        "Ya se tienen un objetivo en mente, ahora hay que analizar ese objetivo como se relaciona con las demás variables. En este momento se debe iniciar a comparar la variable objetivo respecto a las demás. Se recomienda realizar lo siguiente:\n",
        "\n",
        "* Compare las variable cuantitativas vs la variable objetivo. \n",
        "* Compare los datos cualitativos vs la variable objetivo. \n",
        "\n",
        "Para ambos puntos se recomienda colocar el promedio de la variable objetivo para ver que tan alejados están los datos de la media y la varianza. "
      ],
      "metadata": {
        "id": "DPHCI-0hBgPT"
      }
    },
    {
      "cell_type": "code",
      "source": [
        "# code here"
      ],
      "metadata": {
        "id": "IORFZP-DDtgb"
      },
      "execution_count": null,
      "outputs": []
    },
    {
      "cell_type": "markdown",
      "source": [
        "*Justificación aquí*"
      ],
      "metadata": {
        "id": "Sta2o3gaD_e8"
      }
    },
    {
      "cell_type": "markdown",
      "source": [
        "# Exploración de datos (#4 - Preguntas adicionales)\n",
        "\n",
        "Es normal que nos surjan algunas preguntas que puedan ser de interes general para el proyecto y que paralelamente ayuden a tener una mejor idea de la información que estamos manejando. Una forma de generar preguntas interesantes es cuando comparamos variables entre ellas. Se recomienda realizar lo siguiente:\n",
        "\n",
        "* Identificar país de origen de los huespedes\n",
        "* Identificar la segmenteación de los huespedes y tipo de hospedaje\n",
        "* Identificar visitantes con niños\n",
        "* Identificar mes que tiene más visitantes. En este caso es bueno identificar los que vienen con niños, sin niños y totales.\n",
        "* Cuantos huespedes repiten y que tipo de hospedaje\n",
        "* Identificar cuantos usan el parqueadero\n",
        "* Identificar los canales por los cuales se hacen reservas\n",
        "\n",
        "NOTA: No se limite a esos no más, deje volar su imaginación"
      ],
      "metadata": {
        "id": "6b9o6Isr-8Z5"
      }
    },
    {
      "cell_type": "code",
      "source": [
        "print(\"Pais de origen\")\n",
        "Origien = cfory[\"country\"]\n",
        "print(Origien)\n",
        "print()\n",
        "print()\n",
        "print(\"Pais de origen y tipo de reserva\")\n",
        "Origien = cfory[\"country\"]\n",
        "TipoHospedaje = cfory[\"reserved_room_type\"]\n",
        "print(\"Pais origen: \" + Origien + \"       Hospedaje tipo \" +  TipoHospedaje)\n",
        "print()\n",
        "print()\n",
        "print(\"Requieren parqueadero\")\n",
        "from pandas._libs import index\n",
        "total_rows=len(cfory.axes[0]) #Total de filas\n",
        "park = cfory['required_car_parking_spaces'] != 0   \n",
        "print(\"De las\" , total_rows , \"resarvas,\", (park).sum() , \"utilizaron el parqueadero\")\n",
        "print()\n",
        "UsagePark = cfory[cfory['required_car_parking_spaces'] != 0] [['hotel']+['required_car_parking_spaces']+[\"adults\"]+[\"country\"]]\n",
        "UsagePark.head()\n",
        "print()\n",
        "print()\n",
        "print(\"Canales de reservas\")\n",
        "total_rows=len(cfory.axes[0]) #Total de filas\n",
        "#park = cfory['distribution_channel'] != 0   \n",
        "distribution = cfory[cfory['distribution_channel'] != 0] [['hotel']+['distribution_channel']+[\"adults\"]+[\"country\"]]\n",
        "distribution.head()"
      ],
      "metadata": {
        "id": "e8_ye_pVBYk2"
      },
      "execution_count": null,
      "outputs": []
    },
    {
      "cell_type": "markdown",
      "source": [
        "*Justificación aquí*"
      ],
      "metadata": {
        "id": "a7gqxv98EAu6"
      }
    }
  ]
}